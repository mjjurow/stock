{
 "cells": [
  {
   "cell_type": "code",
   "execution_count": 29,
   "id": "7551bb04",
   "metadata": {},
   "outputs": [],
   "source": [
    "import yfinance as yf\n",
    "import numpy as np\n",
    "import pandas as pd\n",
    "import os\n",
    "import datetime\n",
    "from datetime import datetime, time, timedelta, timezone\n",
    "from concurrent import futures\n",
    "from pandas import DataFrame\n",
    "import pandas_datareader.data as web\n",
    "import pymongo\n",
    "import requests_cache\n",
    "import time\n",
    "import pytz\n",
    "import mplfinance as mpf"
   ]
  },
  {
   "cell_type": "code",
   "execution_count": 6,
   "id": "215e3a7a",
   "metadata": {},
   "outputs": [
    {
     "name": "stdout",
     "output_type": "stream",
     "text": [
      "2023-10-01 15:00:00+00:00\n",
      "2023-11-01 15:00:00+00:00\n"
     ]
    }
   ],
   "source": [
    "# Original start date in Eastern Time (UTC-5)\n",
    "start_date_et = datetime(2023, 10, 1, 10, 0, tzinfo=timezone(timedelta(hours=-5)))\n",
    "end_date_et = datetime(2023, 11, 1, 10, 0, tzinfo=timezone(timedelta(hours=-5)))\n",
    "\n",
    "# Convert to UTC\n",
    "start_date_utc = start_date_et.astimezone(timezone.utc)\n",
    "end_date_utc = end_date_et.astimezone(timezone.utc)\n",
    "\n",
    "print(start_date_utc)\n",
    "print(end_date_utc)"
   ]
  },
  {
   "cell_type": "code",
   "execution_count": 7,
   "id": "41d3507e",
   "metadata": {},
   "outputs": [],
   "source": [
    "btc = yf.Ticker(\"BTC-USD\")"
   ]
  },
  {
   "cell_type": "code",
   "execution_count": 11,
   "id": "7696ee8d",
   "metadata": {},
   "outputs": [],
   "source": [
    "# BTC\n",
    "btc_df = btc.history(start=start_date_utc, end=end_date_utc, interval=\"15m\")# Fetch data for S&P 500 index"
   ]
  },
  {
   "cell_type": "code",
   "execution_count": 14,
   "id": "2091c3d4",
   "metadata": {},
   "outputs": [
    {
     "name": "stdout",
     "output_type": "stream",
     "text": [
      "['Open', 'High', 'Low', 'Close', 'Volume', 'Dividends', 'Stock Splits']\n"
     ]
    }
   ],
   "source": [
    "columns_list = btc_df.columns.tolist()\n",
    "print(columns_list)"
   ]
  },
  {
   "cell_type": "code",
   "execution_count": 15,
   "id": "d78da826",
   "metadata": {},
   "outputs": [],
   "source": [
    "# Drop 'Dividends' and 'Stock Splits' columns\n",
    "btc_df = btc_df.drop(columns=['Dividends', 'Stock Splits'])"
   ]
  },
  {
   "cell_type": "code",
   "execution_count": 23,
   "id": "9ae1d74d",
   "metadata": {},
   "outputs": [],
   "source": [
    "# Trends\n",
    "intervals_per_hour = 4\n",
    "btc_df['d1H'] = btc_df['Close'] - btc_df['Close'].shift(1 * intervals_per_hour)\n",
    "btc_df['d3H'] = btc_df['Close'] - btc_df['Close'].shift(3 * intervals_per_hour)\n",
    "btc_df['d6H'] = btc_df['Close'] - btc_df['Close'].shift(6 * intervals_per_hour)\n",
    "btc_df['d1D'] = btc_df['Close'] - btc_df['Close'].shift(24 * intervals_per_hour)\n",
    "btc_df['d7D'] = btc_df['Close'] - btc_df['Close'].shift(7 * 24 * intervals_per_hour)"
   ]
  },
  {
   "cell_type": "code",
   "execution_count": 16,
   "id": "bec7c98a",
   "metadata": {},
   "outputs": [],
   "source": [
    "# Calculate rolling averages\n",
    "# 1 hour (4 intervals of 15 minutes), 6 hours (24 intervals), 12 hours (48 intervals), 1 day (96 intervals), 1 week (672 intervals)\n",
    "intervals_per_hour = 4\n",
    "btc_df['Close_rolling_1h'] = btc_df['Close'].rolling(window=1*intervals_per_hour).mean()\n",
    "btc_df['Close_rolling_6h'] = btc_df['Close'].rolling(window=6*intervals_per_hour).mean()\n",
    "btc_df['Close_rolling_12h'] = btc_df['Close'].rolling(window=12*intervals_per_hour).mean()\n",
    "btc_df['Close_rolling_1d'] = btc_df['Close'].rolling(window=24*intervals_per_hour).mean()\n",
    "btc_df['Close_rolling_1w'] = btc_df['Close'].rolling(window=7*24*intervals_per_hour).mean()"
   ]
  },
  {
   "cell_type": "code",
   "execution_count": 24,
   "id": "9c0149c8",
   "metadata": {},
   "outputs": [
    {
     "name": "stdout",
     "output_type": "stream",
     "text": [
      "                                   Open          High           Low  \\\n",
      "Datetime                                                              \n",
      "2023-10-01 15:00:00+00:00  27122.312500  27144.205078  27122.312500   \n",
      "2023-10-01 15:15:00+00:00  27136.244141  27144.171875  27119.367188   \n",
      "2023-10-01 15:30:00+00:00  27137.406250  27145.894531  27135.216797   \n",
      "2023-10-01 15:45:00+00:00  27138.175781  27158.505859  27137.410156   \n",
      "2023-10-01 16:00:00+00:00  27156.275391  27157.417969  27145.205078   \n",
      "\n",
      "                                  Close    Volume  Close_rolling_1h  \\\n",
      "Datetime                                                              \n",
      "2023-10-01 15:00:00+00:00  27135.546875  12143616               NaN   \n",
      "2023-10-01 15:15:00+00:00  27136.126953    475136               NaN   \n",
      "2023-10-01 15:30:00+00:00  27137.972656    932352               NaN   \n",
      "2023-10-01 15:45:00+00:00  27156.640625         0      27141.571777   \n",
      "2023-10-01 16:00:00+00:00  27157.417969         0      27147.039551   \n",
      "\n",
      "                           Close_rolling_6h  Close_rolling_12h  \\\n",
      "Datetime                                                         \n",
      "2023-10-01 15:00:00+00:00               NaN                NaN   \n",
      "2023-10-01 15:15:00+00:00               NaN                NaN   \n",
      "2023-10-01 15:30:00+00:00               NaN                NaN   \n",
      "2023-10-01 15:45:00+00:00               NaN                NaN   \n",
      "2023-10-01 16:00:00+00:00               NaN                NaN   \n",
      "\n",
      "                           Close_rolling_1d  Close_rolling_1w        d1H  d3H  \\\n",
      "Datetime                                                                        \n",
      "2023-10-01 15:00:00+00:00               NaN               NaN        NaN  NaN   \n",
      "2023-10-01 15:15:00+00:00               NaN               NaN        NaN  NaN   \n",
      "2023-10-01 15:30:00+00:00               NaN               NaN        NaN  NaN   \n",
      "2023-10-01 15:45:00+00:00               NaN               NaN        NaN  NaN   \n",
      "2023-10-01 16:00:00+00:00               NaN               NaN  21.871094  NaN   \n",
      "\n",
      "                           d6H  d1D  d7D  \n",
      "Datetime                                  \n",
      "2023-10-01 15:00:00+00:00  NaN  NaN  NaN  \n",
      "2023-10-01 15:15:00+00:00  NaN  NaN  NaN  \n",
      "2023-10-01 15:30:00+00:00  NaN  NaN  NaN  \n",
      "2023-10-01 15:45:00+00:00  NaN  NaN  NaN  \n",
      "2023-10-01 16:00:00+00:00  NaN  NaN  NaN  \n"
     ]
    }
   ],
   "source": [
    "print(btc_df.head())\n"
   ]
  },
  {
   "cell_type": "code",
   "execution_count": 25,
   "id": "a3af9550",
   "metadata": {},
   "outputs": [],
   "source": [
    "# for simplicity lets just trash NaN\n",
    "btc = btc_df.dropna().copy()"
   ]
  },
  {
   "cell_type": "code",
   "execution_count": 26,
   "id": "3cc8da37",
   "metadata": {},
   "outputs": [],
   "source": [
    "btc['Current'] = btc['High'] - btc['Low']"
   ]
  },
  {
   "cell_type": "code",
   "execution_count": 27,
   "id": "4ba3301c",
   "metadata": {},
   "outputs": [
    {
     "data": {
      "text/html": [
       "<div>\n",
       "<style scoped>\n",
       "    .dataframe tbody tr th:only-of-type {\n",
       "        vertical-align: middle;\n",
       "    }\n",
       "\n",
       "    .dataframe tbody tr th {\n",
       "        vertical-align: top;\n",
       "    }\n",
       "\n",
       "    .dataframe thead th {\n",
       "        text-align: right;\n",
       "    }\n",
       "</style>\n",
       "<table border=\"1\" class=\"dataframe\">\n",
       "  <thead>\n",
       "    <tr style=\"text-align: right;\">\n",
       "      <th></th>\n",
       "      <th>Open</th>\n",
       "      <th>High</th>\n",
       "      <th>Low</th>\n",
       "      <th>Close</th>\n",
       "      <th>Volume</th>\n",
       "      <th>Close_rolling_1h</th>\n",
       "      <th>Close_rolling_6h</th>\n",
       "      <th>Close_rolling_12h</th>\n",
       "      <th>Close_rolling_1d</th>\n",
       "      <th>Close_rolling_1w</th>\n",
       "      <th>d1H</th>\n",
       "      <th>d3H</th>\n",
       "      <th>d6H</th>\n",
       "      <th>d1D</th>\n",
       "      <th>d7D</th>\n",
       "      <th>Current</th>\n",
       "    </tr>\n",
       "    <tr>\n",
       "      <th>Datetime</th>\n",
       "      <th></th>\n",
       "      <th></th>\n",
       "      <th></th>\n",
       "      <th></th>\n",
       "      <th></th>\n",
       "      <th></th>\n",
       "      <th></th>\n",
       "      <th></th>\n",
       "      <th></th>\n",
       "      <th></th>\n",
       "      <th></th>\n",
       "      <th></th>\n",
       "      <th></th>\n",
       "      <th></th>\n",
       "      <th></th>\n",
       "      <th></th>\n",
       "    </tr>\n",
       "  </thead>\n",
       "  <tbody>\n",
       "    <tr>\n",
       "      <th>2023-10-08 15:00:00+00:00</th>\n",
       "      <td>27954.294922</td>\n",
       "      <td>27961.107422</td>\n",
       "      <td>27940.820312</td>\n",
       "      <td>27961.107422</td>\n",
       "      <td>392704</td>\n",
       "      <td>27936.194824</td>\n",
       "      <td>27881.455729</td>\n",
       "      <td>27922.338379</td>\n",
       "      <td>27942.575846</td>\n",
       "      <td>27722.693906</td>\n",
       "      <td>25.962891</td>\n",
       "      <td>118.890625</td>\n",
       "      <td>18.304688</td>\n",
       "      <td>-6.640625</td>\n",
       "      <td>825.560547</td>\n",
       "      <td>20.287109</td>\n",
       "    </tr>\n",
       "    <tr>\n",
       "      <th>2023-10-08 15:15:00+00:00</th>\n",
       "      <td>27951.169922</td>\n",
       "      <td>27951.169922</td>\n",
       "      <td>27926.150391</td>\n",
       "      <td>27930.931641</td>\n",
       "      <td>19564032</td>\n",
       "      <td>27946.081055</td>\n",
       "      <td>27881.691813</td>\n",
       "      <td>27919.019368</td>\n",
       "      <td>27942.096537</td>\n",
       "      <td>27723.876651</td>\n",
       "      <td>39.544922</td>\n",
       "      <td>62.349609</td>\n",
       "      <td>5.666016</td>\n",
       "      <td>-46.013672</td>\n",
       "      <td>794.804688</td>\n",
       "      <td>25.019531</td>\n",
       "    </tr>\n",
       "  </tbody>\n",
       "</table>\n",
       "</div>"
      ],
      "text/plain": [
       "                                   Open          High           Low  \\\n",
       "Datetime                                                              \n",
       "2023-10-08 15:00:00+00:00  27954.294922  27961.107422  27940.820312   \n",
       "2023-10-08 15:15:00+00:00  27951.169922  27951.169922  27926.150391   \n",
       "\n",
       "                                  Close    Volume  Close_rolling_1h  \\\n",
       "Datetime                                                              \n",
       "2023-10-08 15:00:00+00:00  27961.107422    392704      27936.194824   \n",
       "2023-10-08 15:15:00+00:00  27930.931641  19564032      27946.081055   \n",
       "\n",
       "                           Close_rolling_6h  Close_rolling_12h  \\\n",
       "Datetime                                                         \n",
       "2023-10-08 15:00:00+00:00      27881.455729       27922.338379   \n",
       "2023-10-08 15:15:00+00:00      27881.691813       27919.019368   \n",
       "\n",
       "                           Close_rolling_1d  Close_rolling_1w        d1H  \\\n",
       "Datetime                                                                   \n",
       "2023-10-08 15:00:00+00:00      27942.575846      27722.693906  25.962891   \n",
       "2023-10-08 15:15:00+00:00      27942.096537      27723.876651  39.544922   \n",
       "\n",
       "                                  d3H        d6H        d1D         d7D  \\\n",
       "Datetime                                                                  \n",
       "2023-10-08 15:00:00+00:00  118.890625  18.304688  -6.640625  825.560547   \n",
       "2023-10-08 15:15:00+00:00   62.349609   5.666016 -46.013672  794.804688   \n",
       "\n",
       "                             Current  \n",
       "Datetime                              \n",
       "2023-10-08 15:00:00+00:00  20.287109  \n",
       "2023-10-08 15:15:00+00:00  25.019531  "
      ]
     },
     "execution_count": 27,
     "metadata": {},
     "output_type": "execute_result"
    }
   ],
   "source": [
    "btc.head(2)"
   ]
  },
  {
   "cell_type": "code",
   "execution_count": 28,
   "id": "4f660b7e",
   "metadata": {},
   "outputs": [
    {
     "name": "stdout",
     "output_type": "stream",
     "text": [
      "['Open', 'High', 'Low', 'Close', 'Volume', 'Close_rolling_1h', 'Close_rolling_6h', 'Close_rolling_12h', 'Close_rolling_1d', 'Close_rolling_1w', 'd1H', 'd3H', 'd6H', 'd1D', 'd7D', 'Current']\n"
     ]
    }
   ],
   "source": [
    "columns_list = btc.columns.tolist()\n",
    "print(columns_list)"
   ]
  },
  {
   "cell_type": "code",
   "execution_count": 31,
   "id": "f6f64a7f",
   "metadata": {},
   "outputs": [
    {
     "name": "stdout",
     "output_type": "stream",
     "text": [
      "BTC DataFrame Start: 2023-10-08 15:00:00+00:00 End: 2023-11-01 14:45:00+00:00\n",
      "BTC DataFrame Rows: 2299\n"
     ]
    }
   ],
   "source": [
    "# Print the start and end times for each dataframe\n",
    "print(\"BTC DataFrame Start:\", btc.index.min(), \"End:\", btc.index.max())\n",
    "\n",
    "# Print the number of rows\n",
    "print(\"BTC DataFrame Rows:\", len(btc))"
   ]
  },
  {
   "cell_type": "code",
   "execution_count": 36,
   "id": "3de64533",
   "metadata": {},
   "outputs": [],
   "source": [
    "# Assuming btc_df is your dataframe and has a datetime index\n",
    "# Filter the dataframe for the period from 2023-10-22 to 2023-10-29\n",
    "filtered_btc_df = btc['2023-10-27':'2023-10-28'].copy()"
   ]
  },
  {
   "cell_type": "code",
   "execution_count": 37,
   "id": "21f93c45",
   "metadata": {},
   "outputs": [
    {
     "data": {
      "image/png": "[encoded data removed]",
      "text/plain": [
       "<Figure size 800x575 with 4 Axes>"
      ]
     },
     "metadata": {},
     "output_type": "display_data"
    }
   ],
   "source": [
    "# Ensure that the index of btc_df is a datetime index\n",
    "filtered_btc_df['Timestamp'] = pd.to_datetime(filtered_btc_df.index)\n",
    "filtered_btc_df.set_index('Timestamp', inplace=True)\n",
    "\n",
    "# Create a candlestick chart for the filtered data\n",
    "mpf.plot(filtered_btc_df, type='candle', style='charles', volume=True, title='BTC Candlestick Chart (Oct 22 - Oct 29)')"
   ]
  },
  {
   "cell_type": "code",
   "execution_count": 38,
   "id": "44ead81d",
   "metadata": {},
   "outputs": [],
   "source": [
    "# so lets just make it work now\n",
    "# to start: if the current rate is steeper (getting bigger faster) than the 3 hour rate buy and record the buy price\n",
    "# if it gains more than 10% sell and bank the profit\n",
    "# if there's a fast enough drop print a warning (like call me ha)"
   ]
  },
  {
   "cell_type": "code",
   "execution_count": 49,
   "id": "fa5b31d7",
   "metadata": {},
   "outputs": [
    {
     "data": {
      "text/plain": [
       "\"Class TradingBot:\\nAttributes:\\nbank_account: To track the balance.\\nholding: To track whether the bot currently holds BTC.\\nbuy_price: The price at which the bot last bought BTC.\\nledger: A list (or another suitable data structure) to record transaction details.\\nMethods:\\n__init__: Constructor to initialize the bank account, holding status, buy price, and ledger.\\nevaluate_buy: To check if the current rate's steepness exceeds the 3-hour rate and decide whether to buy.\\nevaluate_sell: To check if the profit exceeds 10% and decide whether to sell.\\nrecord_transaction: To record the details of each transaction in the ledger.\\nprint_warning: To print a warning in case of a fast enough drop.\\napply_to_data: To apply the bot's logic to a dataframe and simulate trading.\\n\\nThe bot checks if there's a drop of more than 2% in the closing price compared to the previous 15-minute interval's closing price.\\nIf such a drop is detected, the print_warning method is called, printing a warning message with the timestamp and the rate of the drop.\\nThis check is performed only if the bot is currently holding BTC (i.e., after a buy and before a sell).\\n\\n\\nInvest a Fixed Amount ($100) Per Trade: Instead of investing the entire bank account, the bot will only invest $100 in each trade.\\nPrint a Warning if the Bank Account Gets Below $200: Add a check to print a warning if the bank account balance falls below $200.\\nHandle NaN Values: Ensure the bot skips rows with NaN values to avoid erroneous calculations.\\nPrint an Alert for NaN Values: Print an alert when encountering a row with NaN values.\\n\\n\""
      ]
     },
     "execution_count": 49,
     "metadata": {},
     "output_type": "execute_result"
    }
   ],
   "source": [
    "'''Class TradingBot:\n",
    "Attributes:\n",
    "bank_account: To track the balance.\n",
    "holding: To track whether the bot currently holds BTC.\n",
    "buy_price: The price at which the bot last bought BTC.\n",
    "ledger: A list (or another suitable data structure) to record transaction details.\n",
    "Methods:\n",
    "__init__: Constructor to initialize the bank account, holding status, buy price, and ledger.\n",
    "evaluate_buy: To check if the current rate's steepness exceeds the 3-hour rate and decide whether to buy.\n",
    "evaluate_sell: To check if the profit exceeds 10% and decide whether to sell.\n",
    "record_transaction: To record the details of each transaction in the ledger.\n",
    "print_warning: To print a warning in case of a fast enough drop.\n",
    "apply_to_data: To apply the bot's logic to a dataframe and simulate trading.\n",
    "\n",
    "The bot checks if there's a drop of more than 2% in the closing price compared to the previous 15-minute interval's closing price.\n",
    "If such a drop is detected, the print_warning method is called, printing a warning message with the timestamp and the rate of the drop.\n",
    "This check is performed only if the bot is currently holding BTC (i.e., after a buy and before a sell).\n",
    "\n",
    "\n",
    "Invest a Fixed Amount ($100) Per Trade: Instead of investing the entire bank account, the bot will only invest $100 in each trade.\n",
    "Print a Warning if the Bank Account Gets Below $200: Add a check to print a warning if the bank account balance falls below $200.\n",
    "Handle NaN Values: Ensure the bot skips rows with NaN values to avoid erroneous calculations.\n",
    "Print an Alert for NaN Values: Print an alert when encountering a row with NaN values.\n",
    "\n",
    "'''"
   ]
  },
  {
   "cell_type": "code",
   "execution_count": 48,
   "id": "7889212f",
   "metadata": {},
   "outputs": [],
   "source": [
    "class TradingBot:\n",
    "    def __init__(self):\n",
    "        self.bank_account = 1000  # Starting amount in the bank account\n",
    "        self.holding = False\n",
    "        self.buy_price = None\n",
    "        self.ledger = []\n",
    "        self.total_trades = 0\n",
    "        self.total_profit = 0\n",
    "        self.investment_per_trade = 100\n",
    "\n",
    "    def evaluate_buy(self, current_rate, rate_3h):\n",
    "        return current_rate > rate_3h\n",
    "\n",
    "    def evaluate_sell(self, current_price):\n",
    "        if self.holding and ((current_price / self.buy_price) - 1) >= 0.1:\n",
    "            return True\n",
    "        return False\n",
    "\n",
    "    def record_transaction(self, time, action, price, profit=None, reason=''):\n",
    "        self.ledger.append({'time': time, 'action': action, 'price': price, 'profit': profit, 'reason': reason})\n",
    "        self.total_trades += 1\n",
    "        if profit:\n",
    "            self.total_profit += profit\n",
    "\n",
    "    def print_warning(self, message):\n",
    "        print(f\"Warning: {message}\")\n",
    "\n",
    "    def apply_to_data(self, df):\n",
    "        for index, row in df.iterrows():\n",
    "            # Skip rows with NaN values\n",
    "            if row.isnull().any():\n",
    "                self.print_warning(f\"NaN value detected at {index}. Skipping row.\")\n",
    "                continue\n",
    "\n",
    "            current_rate = row['Current']\n",
    "            rate_3h = row['d3H']\n",
    "            current_price = row['Close']\n",
    "\n",
    "            if not self.holding and self.evaluate_buy(current_rate, rate_3h):\n",
    "                if self.bank_account >= self.investment_per_trade:\n",
    "                    self.holding = True\n",
    "                    self.buy_price = current_price\n",
    "                    self.bank_account -= self.investment_per_trade\n",
    "                    self.record_transaction(index, 'buy', current_price, reason='Rate steeper than 3H rate')\n",
    "                elif self.bank_account < 200:\n",
    "                    self.print_warning(f\"Account balance below $200 at {index}.\")\n",
    "            elif self.holding and self.evaluate_sell(current_price):\n",
    "                profit = (current_price - self.buy_price) * (self.investment_per_trade / self.buy_price)\n",
    "                self.bank_account += self.investment_per_trade + profit\n",
    "                self.holding = False\n",
    "                self.record_transaction(index, 'sell', current_price, profit=profit, reason='Gained more than 10%')\n",
    "\n",
    "        # Print total trades and total profit/loss\n",
    "        print(f\"Total trades: {self.total_trades}\")\n",
    "        print(f\"Total profit/loss: {self.total_profit}\")\n",
    "\n",
    "        return self.ledger"
   ]
  },
  {
   "cell_type": "code",
   "execution_count": 59,
   "id": "d6716c52",
   "metadata": {},
   "outputs": [],
   "source": [
    "# Initialize the bot\n",
    "bot = TradingBot()"
   ]
  },
  {
   "cell_type": "code",
   "execution_count": 60,
   "id": "3fa1074e",
   "metadata": {},
   "outputs": [],
   "source": [
    "#test data\n",
    "btc_df_test = btc.copy()"
   ]
  },
  {
   "cell_type": "code",
   "execution_count": 61,
   "id": "43bf6c73",
   "metadata": {},
   "outputs": [
    {
     "name": "stdout",
     "output_type": "stream",
     "text": [
      "BTC DataFrame Start: 2023-10-08 15:00:00+00:00 End: 2023-11-01 14:45:00+00:00\n",
      "BTC DataFrame Rows: 2299\n"
     ]
    }
   ],
   "source": [
    "# Print the start and end times for each dataframe\n",
    "print(\"BTC DataFrame Start:\", btc_df_test.index.min(), \"End:\", btc_df_test.index.max())\n",
    "\n",
    "# Print the number of rows\n",
    "print(\"BTC DataFrame Rows:\", len(btc_df_test))"
   ]
  },
  {
   "cell_type": "code",
   "execution_count": 62,
   "id": "c9932371",
   "metadata": {},
   "outputs": [],
   "source": [
    "# Ensure that the index of btc_df is a datetime index\n",
    "btc_df_test['Timestamp'] = pd.to_datetime(btc_df_test.index)\n",
    "btc_df_test.set_index('Timestamp', inplace=True)"
   ]
  },
  {
   "cell_type": "code",
   "execution_count": 64,
   "id": "0418f22e",
   "metadata": {},
   "outputs": [
    {
     "name": "stdout",
     "output_type": "stream",
     "text": [
      "Total trades: 5\n",
      "Total profit/loss: 21.95522355684984\n"
     ]
    },
    {
     "data": {
      "text/plain": [
       "[{'time': Timestamp('2023-10-10 00:00:00+0000', tz='UTC'),\n",
       "  'action': 'buy',\n",
       "  'price': 27583.82421875,\n",
       "  'profit': None,\n",
       "  'reason': 'Rate steeper than 3H rate'},\n",
       " {'time': Timestamp('2023-10-23 01:15:00+0000', tz='UTC'),\n",
       "  'action': 'sell',\n",
       "  'price': 30391.517578125,\n",
       "  'profit': 10.178767588964263,\n",
       "  'reason': 'Gained more than 10%'},\n",
       " {'time': Timestamp('2023-10-23 06:45:00+0000', tz='UTC'),\n",
       "  'action': 'buy',\n",
       "  'price': 30705.150390625,\n",
       "  'profit': None,\n",
       "  'reason': 'Rate steeper than 3H rate'},\n",
       " {'time': Timestamp('2023-10-23 22:30:00+0000', tz='UTC'),\n",
       "  'action': 'sell',\n",
       "  'price': 34321.12890625,\n",
       "  'profit': 11.776455967885578,\n",
       "  'reason': 'Gained more than 10%'},\n",
       " {'time': Timestamp('2023-10-24 01:30:00+0000', tz='UTC'),\n",
       "  'action': 'buy',\n",
       "  'price': 33749.5546875,\n",
       "  'profit': None,\n",
       "  'reason': 'Rate steeper than 3H rate'}]"
      ]
     },
     "execution_count": 64,
     "metadata": {},
     "output_type": "execute_result"
    }
   ],
   "source": [
    "# Apply the bot to a section of the dataframe (for example, 'btc_df')\n",
    "bot.apply_to_data(btc_df_test['2023-10-08':'2023-11-01'])"
   ]
  },
  {
   "cell_type": "code",
   "execution_count": 65,
   "id": "a4f59563",
   "metadata": {},
   "outputs": [
    {
     "name": "stdout",
     "output_type": "stream",
     "text": [
      "[{'time': Timestamp('2023-10-10 00:00:00+0000', tz='UTC'), 'action': 'buy', 'price': 27583.82421875, 'profit': None, 'reason': 'Rate steeper than 3H rate'}, {'time': Timestamp('2023-10-23 01:15:00+0000', tz='UTC'), 'action': 'sell', 'price': 30391.517578125, 'profit': 10.178767588964263, 'reason': 'Gained more than 10%'}, {'time': Timestamp('2023-10-23 06:45:00+0000', tz='UTC'), 'action': 'buy', 'price': 30705.150390625, 'profit': None, 'reason': 'Rate steeper than 3H rate'}, {'time': Timestamp('2023-10-23 22:30:00+0000', tz='UTC'), 'action': 'sell', 'price': 34321.12890625, 'profit': 11.776455967885578, 'reason': 'Gained more than 10%'}, {'time': Timestamp('2023-10-24 01:30:00+0000', tz='UTC'), 'action': 'buy', 'price': 33749.5546875, 'profit': None, 'reason': 'Rate steeper than 3H rate'}]\n"
     ]
    }
   ],
   "source": [
    "# Check the ledger for transactions\n",
    "print(bot.ledger)\n"
   ]
  },
  {
   "cell_type": "code",
   "execution_count": null,
   "id": "246b08bb",
   "metadata": {},
   "outputs": [],
   "source": []
  },
  {
   "cell_type": "code",
   "execution_count": null,
   "id": "b9ce1be8",
   "metadata": {},
   "outputs": [],
   "source": []
  },
  {
   "cell_type": "code",
   "execution_count": null,
   "id": "946a784d",
   "metadata": {},
   "outputs": [],
   "source": []
  }
 ],
 "metadata": {
  "kernelspec": {
   "display_name": "Python 3 (ipykernel)",
   "language": "python",
   "name": "python3"
  },
  "language_info": {
   "codemirror_mode": {
    "name": "ipython",
    "version": 3
   },
   "file_extension": ".py",
   "mimetype": "text/x-python",
   "name": "python",
   "nbconvert_exporter": "python",
   "pygments_lexer": "ipython3",
   "version": "3.11.5"
  }
 },
 "nbformat": 4,
 "nbformat_minor": 5
}
